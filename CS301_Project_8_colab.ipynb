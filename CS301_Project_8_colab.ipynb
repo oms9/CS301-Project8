{
  "nbformat": 4,
  "nbformat_minor": 0,
  "metadata": {
    "colab": {
      "name": "CS301 Project 8 colab.ipynb",
      "provenance": [],
      "collapsed_sections": [],
      "toc_visible": true,
      "include_colab_link": true
    },
    "kernelspec": {
      "name": "python3",
      "display_name": "Python 3"
    },
    "language_info": {
      "name": "python"
    },
    "accelerator": "GPU"
  },
  "cells": [
    {
      "cell_type": "markdown",
      "metadata": {
        "id": "view-in-github",
        "colab_type": "text"
      },
      "source": [
        "<a href=\"https://colab.research.google.com/github/oms9/CS301-Project8/blob/main/CS301_Project_8_colab.ipynb\" target=\"_parent\"><img src=\"https://colab.research.google.com/assets/colab-badge.svg\" alt=\"Open In Colab\"/></a>"
      ]
    },
    {
      "cell_type": "markdown",
      "source": [
        "# Binary classification in JAX using an MLP\n",
        "####Author:  Omar Shalaby\n",
        "\n",
        "\n"
      ],
      "metadata": {
        "id": "Ol57Qvqx26IN"
      }
    },
    {
      "cell_type": "markdown",
      "source": [
        "##Project report:"
      ],
      "metadata": {
        "id": "chmUdm9crBYf"
      }
    },
    {
      "cell_type": "markdown",
      "source": [
        "\n",
        "###Relevant Links:\n",
        "\n",
        "https://pantelis.github.io/data-science/aiml-common/lectures/classification/classification-intro/_index.html\n",
        "\n",
        "https://pantelis.github.io/data-science/aiml-common/lectures/classification/perceptron/_index.html\n",
        "\n",
        "https://www.kaggle.com/competitions/breast-cancer-data/overview\n",
        "\n",
        "https://scikit-learn.org/stable/datasets/toy_dataset.html#breast-cancer-wisconsin-diagnostic-dataset\n",
        "\n",
        "https://coderzcolumn.com/tutorials/artificial-intelligence/create-neural-networks-using-high-level-jax-api\n"
      ],
      "metadata": {
        "id": "EFJkU4kT3AyE"
      }
    },
    {
      "cell_type": "markdown",
      "source": [
        "---\n",
        "### 1. Abstract\n",
        "This project aims to classify breast tumors using the Wisconsin Breast Cancer Diagnostic dataset into two categories. Benign and Malignant, based on the features of the tumor.\n",
        "<br><br>\n",
        "The dataset has 569 entries:\n",
        "<ul type = \"circle\">\n",
        "<li>Benign: 357\n",
        "<li>Malignant: 212\n",
        "</ul>\n",
        "\n",
        "<br>\n",
        "\n",
        "I am going to tackle this problem by creating an MLP in JAX with the help of Haiku.\n",
        "\n",
        "This dataset is also present in scikit learn so I will be using that module since it is already prepared for importing\n",
        "\n",
        "This MLP will perform binary classification and will be splitting the data into 80-20 percents, 80% for training and 20% for validation.\n",
        "<br>\n",
        "\n",
        "Results: The results of this project is an MLP capable of classifying breast tumors based on metrics describing the tumor with 96% test accuracy in just 500 epochs, taking only about 10 minutes to train.\n",
        "\n",
        "---"
      ],
      "metadata": {
        "id": "nTN4O8CXS-Th"
      }
    },
    {
      "cell_type": "markdown",
      "source": [
        "---\n",
        "### 2. Introduction\n",
        "\n",
        "#### 1. What is an MLP?\n",
        "\n",
        "MLP is short for multi-layer perceptron. A fully connected neural network with multiple layers utilizing a feedforward architecture. All the neurons in one layer are connected to the next and each have weights and biases for these connections.\n",
        "\n",
        "<br>\n",
        "\n",
        "#### 2. What kind of problem is this?\n",
        "\n",
        "This is a Binary classification problem. Meaning that we are trying to decide, based on the data and parameters that we have for a certain element whether it belongs to class A or class B, in this case we are trying to decide if a certain tumor is either Malignant or Benign using its metrics.\n",
        "\n",
        "<br>\n",
        "\n",
        "#### 3. What are JAX and Haiku?\n",
        "\n",
        "JAX is a python library that allows tasks to be run asynchronously on accelerator hardware and performs matrix manipulation and differentiation on a GPU/TPU extremely quickly and efficiently, it is designed from the ground up to be a high-performance library for ML research, it is quite similar to Numpy.\n",
        "\n",
        "Haiku is a library built on top of JAX that enables users to use familiar object-oriented programming models while allowing full access to JAX’s pure function transformations, Haiku is desgined to make managing model parameters and state simple and easy.\n",
        "\n",
        "<br>\n",
        "\n",
        "#### 4. Why breast cancer?\n",
        "\n",
        "Breast cancer is the single most common cancer among women, it is a large threat and an even larger cause of death for women worldwide. Approximately 124 out of 100,000 women are diagnosed with breast cancer, 23 of which are likely to die because of the tumor.\n",
        "\n",
        "\n",
        "Early detection is key in preventing death, if detected early there is chance for successful treatment, 30% and steadily rising. So it is important that we spend a lot of effort on early detection so that the research and effort dedicated towards treatment is more impactful.\n",
        "\n",
        "\n",
        "As we can see from the results, AI can help doctors and therefore women around the world by analyzing every bit of data about the detected tumors and providing accurate (up to 96% with little training!) predictions of the type of tumor.\n",
        "\n",
        "<br>\n",
        "\n",
        "---"
      ],
      "metadata": {
        "id": "eVPpyuxiXIB4"
      }
    },
    {
      "cell_type": "markdown",
      "source": [
        "\n",
        "### 3. Related works\n",
        "[This](https://www.kaggle.com/code/ratnesh88/breast-cancer-prediction-using-pytorch/notebook) notebook served as a guide to help tackle this problem and [this](https://theaisummer.com/jax-transformer/) article helped me understand how to use Haiku to build an MLP, [this](https://coderzcolumn.com/tutorials/artificial-intelligence/create-neural-networks-using-high-level-jax-api) article was vital to understanding how to handle the data while using JAX.\n",
        "\n",
        "<br>\n",
        "\n",
        "The first notebook is different from my approach because it was written in pytorch and took 500 epochs to produce good results.\n",
        "\n",
        "<br>\n",
        "\n",
        "I plan to tackle this problem in JAX, with the help of Haiku but the problem is still the same, a binary classification problem.\n",
        "\n",
        "<br>\n",
        "\n",
        "---"
      ],
      "metadata": {
        "id": "HPNJJjztbEAq"
      }
    },
    {
      "cell_type": "markdown",
      "source": [
        "\n",
        "### 4. Data\n",
        "The data I am working with for this project is numerical and it takes the form of a\n",
        "set of paramters, 30 in total, to describe the tumor. These parameters are:\n",
        "\n",
        "\n",
        "```\n",
        "radius (mean)\n",
        "texture (mean)\n",
        "perimeter (mean)\n",
        "area (mean)\n",
        "smoothness (mean)\n",
        "compactness (mean)\n",
        "concavity (mean)\n",
        "concave points (mean)\n",
        "symmetry (mean)\n",
        "fractal dimension (mean)\n",
        "radius (standard error)\n",
        "texture (standard error)\n",
        "perimeter (standard error)\n",
        "area (standard error)\n",
        "smoothness (standard error)\n",
        "compactness (standard error)\n",
        "concavity (standard error)\n",
        "concave points (standard error)\n",
        "symmetry (standard error)\n",
        "fractal dimension (standard error)\n",
        "radius (worst)\n",
        "texture (worst)\n",
        "perimeter (worst)\n",
        "area (worst)\n",
        "smoothness (worst)\n",
        "compactness (worst)\n",
        "concavity (worst)\n",
        "concave points (worst)\n",
        "symmetry (worst)\n",
        "fractal dimension (worst)\n",
        "```\n",
        "\n",
        "<br>\n",
        "\n",
        "The data came from: Dr. William H. Wolberg, W. Nick Street, Olvi L. Mangasarian\n",
        "\n",
        "https://archive.ics.uci.edu/ml/datasets/Breast+Cancer+Wisconsin+(Diagnostic)\n",
        "\n",
        "\n",
        "<br>\n",
        "\n",
        "As mentioned, the data has 569 entries, giving us a total of 17,070 data points. \n",
        "\n",
        "Preprocessing the data was not neccessary aside from splitting it 80-20 into 80% training and 20% validation categories and a simple normalization procedure.\n",
        "\n",
        "<br>\n",
        "\n",
        "---"
      ],
      "metadata": {
        "id": "-dkvITIBcN8r"
      }
    },
    {
      "cell_type": "markdown",
      "source": [
        "\n",
        "### 5. Methods\n",
        "My approach is using a multi-layer perceptron to perform binary classification using the datapoints of a given tumor.\n",
        "\n",
        "This is a good approach because perceptrons by nature are exceptional at recognizing patterns, even discovering patterns that human trainers and supervisors did not even know existed in the data.\n",
        "\n",
        "This is more useful than simple binary classification using a binary tree or trying to linearly separate the data because it is more flexible and pattern driven rather than being a threshhold game where:\n",
        "\n",
        "```\n",
        "if  numbers  >= x: class a\n",
        "else: class b\n",
        "```\n",
        "\n",
        "<br>\n",
        "\n",
        "---"
      ],
      "metadata": {
        "id": "4iZxquBFm0F-"
      }
    },
    {
      "cell_type": "markdown",
      "source": [
        "\n",
        "### 6. Experiments\n",
        "To demonstrate that my approach solves the problem, I evaluted the model after training it to see the accuracy of it's predictions.\n",
        "\n",
        "<br>\n",
        "\n",
        "We can use TensorFlow and PyTourch to compare performance to the pure JAX implementation of the perceptron and evalute the performance and the speed of the model.\n",
        "\n",
        "<br>\n",
        "\n",
        "I will visualize the weights to try to understand which paramters are most impactful on the decision/classification problem when it comes to the tumors.\n",
        "\n",
        "<br>\n",
        "\n",
        "---"
      ],
      "metadata": {
        "id": "9WJitWCvrTpm"
      }
    },
    {
      "cell_type": "markdown",
      "source": [
        "\n",
        "### 7. Conclusion\n",
        "We can see from the evaluations and results that the perceptron was very successful!\n",
        "\n",
        "<br>\n",
        "\n",
        "To further improve this model, we can try to scavenge more data from more countries and different body types and ethnicities to try and strengthen the model or we can instead have different models for different ethnicities as the similarities and differences between the tumors are discovered using the model and the new data points and sources.\n",
        "\n",
        "<br>\n",
        "\n"
      ],
      "metadata": {
        "id": "CbCoZSN1sOwd"
      }
    },
    {
      "cell_type": "markdown",
      "source": [
        "---\n",
        "##The Implementation:\n",
        "\n",
        "---"
      ],
      "metadata": {
        "id": "OXOhzCYRXTom"
      }
    },
    {
      "cell_type": "markdown",
      "source": [
        "\n",
        "### Downloading libraries and datasets\n",
        "\n",
        "This block downloads the data set, installs JAX and Haiku, initializes JAX to run on GPU\n",
        "\n",
        "---"
      ],
      "metadata": {
        "id": "K61pGDLErmLi"
      }
    },
    {
      "cell_type": "code",
      "source": [
        "#Run only once per runtime to install JAX and Haiku\n",
        "#To see the output of this cell, comment out %%capture but be warned that it is long and a little pointless\n",
        "%%capture \n",
        "!pip install JAX #Install JAX\n",
        "!pip install dm-haiku #Install Haiku, a neural network building library for JAX."
      ],
      "metadata": {
        "id": "V9jnhx7S7IMM"
      },
      "execution_count": null,
      "outputs": []
    },
    {
      "cell_type": "code",
      "source": [
        "#Importing JAX, Haiku and the data from sklearn.\n",
        "import jax\n",
        "import haiku as hk\n",
        "import jax.numpy as jnp\n",
        "from sklearn import datasets\n",
        "from jax import value_and_grad\n",
        "from sklearn.metrics import accuracy_score\n",
        "from sklearn.model_selection import train_test_split\n",
        "\n",
        "#Initializing JAX.\n",
        "key = jax.random.PRNGKey(2) #Setting a random key for reproducability of code.\n",
        "print('JAX is running on the:', jax.lib.xla_bridge.get_backend().platform) #Checking to see if google provided a GPU to run this notebook.\n",
        "#Make sure this reads: \"JAX is running on the: gpu\" during testing.\n",
        "#           ↓↓"
      ],
      "metadata": {
        "id": "s28GnY-S0NMm",
        "colab": {
          "base_uri": "https://localhost:8080/"
        },
        "outputId": "506b0327-ff0f-4314-a8c7-7849ae8ff639"
      },
      "execution_count": null,
      "outputs": [
        {
          "output_type": "stream",
          "name": "stdout",
          "text": [
            "JAX is running on the: gpu\n"
          ]
        }
      ]
    },
    {
      "cell_type": "markdown",
      "source": [
        "---\n",
        "###Converting the data from numpy to JAX arrays.\n",
        "\n",
        "The data as imported form SK learn is not handled on the GPU, so we convert it to be JAX compatible after performing the [80 - 20] split for the [train - test] sets.\n",
        "\n",
        "---"
      ],
      "metadata": {
        "id": "SP-LMojUJdok"
      }
    },
    {
      "cell_type": "code",
      "source": [
        "#Importing the data.\n",
        "X, Y = datasets.load_breast_cancer(return_X_y=True)\n",
        "\n",
        "# X represents the features/parameters\n",
        "# Y represents the prediction. 0 | 1\n",
        "#      0 → Benign, 1 → Malignant\n",
        "\n",
        "#Applying the 80-20 split and randomly shuffling the data using the key: 123\n",
        "parameters_train, parameters_test, predictions_train, predictions_test = train_test_split(X, Y, train_size=0.8, stratify=Y, random_state=123)\n",
        "\n",
        "#Converting the data to be JAX compatible, changing from NumPy to JAX arrays instead (which are on the GPU).\n",
        "parameters_train = jnp.array(parameters_train, dtype=jnp.float32) \n",
        "parameters_test = jnp.array(parameters_test, dtype=jnp.float32)\n",
        "predictions_train = jnp.array(predictions_train, dtype=jnp.float32)\n",
        "predictions_test = jnp.array(predictions_test, dtype=jnp.float32)"
      ],
      "metadata": {
        "id": "WKA-G7wnJmZJ"
      },
      "execution_count": null,
      "outputs": []
    },
    {
      "cell_type": "markdown",
      "source": [
        "---\n",
        "###Data normalization\n",
        "\n",
        "Standard data normalization procedure using the µ (mean) and the σ (standard deviation).\n",
        "\n",
        "---"
      ],
      "metadata": {
        "id": "8n4HcK_Xkq8j"
      }
    },
    {
      "cell_type": "code",
      "source": [
        "#Find µ and σ.\n",
        "mean = parameters_train.mean(axis=0)\n",
        "std = parameters_train.std(axis=0)\n",
        "\n",
        "#Normalize the data by subtracting mean from each element and dividing by standard deviation.\n",
        "parameters_train = (parameters_train - mean) / std\n",
        "parameters_test = (parameters_test - mean) / std"
      ],
      "metadata": {
        "id": "wcZxziuU0UGy"
      },
      "execution_count": null,
      "outputs": []
    },
    {
      "cell_type": "markdown",
      "source": [
        "---\n",
        "###The MLP\n",
        "\n",
        "Here we define the forward function for the MLP and then we transform it using haiku.\n",
        "\n",
        "Transformation is vital because it turns the modules/functions to pure JAX functions. This is unique to JAX since it is running on accelerated hardware, pure functions are functions that have the same output for the same input, without any print statements for example.\n",
        "\n",
        "The MLP function's default parameters are as follows:\n",
        "```\n",
        "MLP(output_size=None,\n",
        "w_init=None,\n",
        "b_init=None,\n",
        "with_bias=True,\n",
        "activation=jax.nn.relu,\n",
        "activate_final=False, name=None)\n",
        "```\n",
        "We only make the necessary changes, which is shaping the output and keep the default activation function (**ReLU**)\n",
        "\n",
        "\n",
        "---"
      ],
      "metadata": {
        "id": "kUrQMNky9Ind"
      }
    },
    {
      "cell_type": "code",
      "source": [
        "def FeedForward(x): #Define the feed forward function.\n",
        "    mlp = hk.nets.MLP(output_sizes=[5,10,15,1]) #This is the sequence of our layer sizes, 30(to match # of params) → 10 → 15 → 1(output layer)\n",
        "    return mlp(x) #Returns the output.\n",
        "\n",
        "model = hk.transform(FeedForward) #Transform the function after we are done into a pure JAX function."
      ],
      "metadata": {
        "id": "VdgoJFBV9Gug"
      },
      "execution_count": null,
      "outputs": []
    },
    {
      "cell_type": "markdown",
      "source": [
        "---\n",
        "###The Loss Function\n",
        "\n",
        "This next block is responsible for defining a loss function to use in training our perceptron.\n",
        "\n",
        "This is an implementation of the Negative Log Loss function, which takes the form:\n",
        "\n",
        "```\n",
        "NegLog(Y, Y`) = 1/n * ( -Y * log(Y') - (1-Y) * log(1-Y'))\n",
        "```\n",
        "\n",
        "The function should accept the weights, params and diagnosis(actual) and then apply them to the model and return the loss of the predictions.\n",
        "\n",
        "---"
      ],
      "metadata": {
        "id": "0iZZhhWzkK7d"
      }
    },
    {
      "cell_type": "code",
      "source": [
        "def NegLogLoss(weights, params, actual):#Dfine the loss function (negative log).\n",
        "    preds = model.apply(weights, key, params) #This applies the model (only possible after transformation to pure fx).\n",
        "    preds = preds.squeeze() #Removes axes to achieve a better \"fit\".\n",
        "    preds = jax.nn.sigmoid(preds) #Sigmoid activation function call.\n",
        "    return (- actual * jnp.log(preds) - (1 - actual) * jnp.log(1 - preds)).mean() #The formula for the negtative log function."
      ],
      "metadata": {
        "id": "jMCnedVPlw7x"
      },
      "execution_count": null,
      "outputs": []
    },
    {
      "cell_type": "markdown",
      "source": [
        "---\n",
        "###The Weights updater\n",
        "\n",
        "This is a very simple function to just update the weights using the learning rate as part of our training loop.\n",
        "\n",
        "---"
      ],
      "metadata": {
        "id": "vT5A232G_fh3"
      }
    },
    {
      "cell_type": "code",
      "source": [
        "def UpdateWeights(weights, gradients):\n",
        "    return (weights - learning_rate * gradients) #Very simple update step."
      ],
      "metadata": {
        "id": "M7j9-pbaDjDe"
      },
      "execution_count": null,
      "outputs": []
    },
    {
      "cell_type": "markdown",
      "source": [
        "---\n",
        "###Training/Model parameters\n",
        "\n",
        "Speaking of the paramters, let's define them now!\n",
        "\n",
        "---"
      ],
      "metadata": {
        "id": "GmooE1GYDt9x"
      }
    },
    {
      "cell_type": "code",
      "source": [
        "params = model.init(key, parameters_train[:5]) #Since parameters are not stored with the model, we have to init them using this function providing an RNG key andsome dummy inputs\n",
        "epochs = 500 #500 epochs to match the notebook mentioned in 3. Realted Works.\n",
        "batch_size = 32 #arbitrary batch size number.\n",
        "learning_rate = jnp.array(0.001) #arbitrary learning rate\n",
        "#(although it is a little high so Google doesn't suspend the runtime.)"
      ],
      "metadata": {
        "id": "t2lkvBaNEQAW"
      },
      "execution_count": null,
      "outputs": []
    },
    {
      "cell_type": "markdown",
      "source": [
        "---\n",
        "###The Training loop\n",
        "\n",
        "Speaking of training, let's train the model!\n",
        "\n",
        "\n",
        "---"
      ],
      "metadata": {
        "id": "cRgAzYZd4UIN"
      }
    },
    {
      "cell_type": "code",
      "source": [
        "for i in range(1, epochs+1):\n",
        "    batches = jnp.arange((parameters_train.shape[0]//batch_size)+1) #Indexing the batches.\n",
        "\n",
        "    losses = [] #We use a list to keep a history of our losses for every state.\n",
        "    for batch in batches:\n",
        "        if batch != batches[-1]: start, end = int(batch*batch_size), int(batch*batch_size+batch_size) #Last iteration condition.\n",
        "        else: start, end = int(batch*batch_size), None\n",
        "\n",
        "        #This is what one batch looks like.\n",
        "        X_batch, Y_batch = parameters_train[start:end], predictions_train[start:end]\n",
        "\n",
        "        #Calling our loss function and updating the parameters while utilizing JAX's value and grad functions to accelerate finding the gradients.\n",
        "        loss, param_grads = value_and_grad(NegLogLoss)(params, X_batch, Y_batch)\n",
        "        params = jax.tree_map(UpdateWeights, params, param_grads)\n",
        "        losses.append(loss)#Append loss, and then loop to next batch.\n",
        "\n",
        "        #A status print out with the current loss in the loop.\n",
        "        #I chose to have it re-use the same line so that the output doesn't get messy\n",
        "        #Besides, we are using a list (losses) to keep track of the loss over epoch anyway.\n",
        "        print(\"\\rEpoch:\", i, \"Loss:\", loss, end=\"\")"
      ],
      "metadata": {
        "id": "NWjLgIQqJoxb",
        "colab": {
          "base_uri": "https://localhost:8080/"
        },
        "outputId": "213192ae-db1b-4768-9553-8978768358aa"
      },
      "execution_count": null,
      "outputs": [
        {
          "output_type": "stream",
          "name": "stdout",
          "text": [
            "Epoch: 500 Loss: 0.118713245"
          ]
        }
      ]
    },
    {
      "cell_type": "markdown",
      "source": [
        "---\n",
        "###Making Predictions\n",
        "\n",
        "Now to define the predictions function, it is a similar structure to the training loop so we can make predictions in batches to more efficiently compute them over the dataset.\n",
        "\n",
        "---"
      ],
      "metadata": {
        "id": "qiI4mtzdLu72"
      }
    },
    {
      "cell_type": "code",
      "source": [
        "def MakePredictions(weights, params, batch_size=32):\n",
        "    batches = jnp.arange((params.shape[0]//batch_size)+1) #Indexing the batches, again.\n",
        "\n",
        "    predictions = []#Same technique as keeping history of losses.\n",
        "    for batch in batches:\n",
        "        if batch != batches[-1]: start, end = int(batch*batch_size), int(batch*batch_size+batch_size) #Last iteration condition.\n",
        "        else: start, end = int(batch*batch_size), None \n",
        "        parameters_batch = params[start:end] #Preparing the list\n",
        "        predictions.append(model.apply(weights, key, parameters_batch))#Apply the model on the data and log the predicitons.\n",
        "\n",
        "    return predictions"
      ],
      "metadata": {
        "id": "I_4DedsRLwo1"
      },
      "execution_count": null,
      "outputs": []
    },
    {
      "cell_type": "code",
      "source": [
        "#Now to make predictions using the training set.\n",
        "output_predictions = MakePredictions(params, parameters_train, 32) #Running the make predictions function defined here ↑\n",
        "output_predictions = jnp.concatenate(output_predictions).squeeze() #Shaping the predictions.\n",
        "output_predictions = jax.nn.sigmoid(output_predictions) #Sigmoid activation function to make this next step easier.\n",
        "output_predictions = (output_predictions > 0.5).astype(jnp.float32) #The outputs are in the range from 0 → 1, we classify them using 0.5 as a threshhold."
      ],
      "metadata": {
        "id": "tc5UN4DyMzAy"
      },
      "execution_count": null,
      "outputs": []
    },
    {
      "cell_type": "code",
      "source": [
        "#Now to prepare the validation predictions, same procedure as the output_predictions above ↑\n",
        "validation_predictions = MakePredictions(params, parameters_test, 32)\n",
        "validation_predictions = jnp.concatenate(validation_predictions).squeeze()\n",
        "validation_predictions = jax.nn.sigmoid(validation_predictions)\n",
        "validation_predictions = (validation_predictions > 0.5).astype(jnp.float32)"
      ],
      "metadata": {
        "id": "EkEUfFG1NGhI"
      },
      "execution_count": null,
      "outputs": []
    },
    {
      "cell_type": "markdown",
      "source": [
        "---\n",
        "###Performance evaluation.\n",
        "\n",
        "Now we are going to see the score and then the accuracy of the model.\n",
        "\n",
        "We format the output because the loss function's raw output can be a bit messy.\n",
        "\n",
        "---"
      ],
      "metadata": {
        "id": "ZWSv4bgvNTUh"
      }
    },
    {
      "cell_type": "code",
      "source": [
        "#Scores:\n",
        "print(\"Test  NegLogLoss Score : {:.2f}\".format(NegLogLoss(params, parameters_test, predictions_test)))\n",
        "print(\"Train NegLogLoss Score : {:.2f}\".format(NegLogLoss(params, parameters_train, predictions_train)))\n",
        "print()\n",
        "#Accuracy evaluation:\n",
        "print(\"Train Accuracy : {:.2f}\".format(accuracy_score(predictions_train, output_predictions)))\n",
        "print(\"Test  Accuracy : {:.2f}\".format(accuracy_score(predictions_test, validation_predictions)))"
      ],
      "metadata": {
        "id": "_aSfeCGvNlaa",
        "colab": {
          "base_uri": "https://localhost:8080/"
        },
        "outputId": "d8143796-80ec-40ca-96f1-6fed92402c28"
      },
      "execution_count": null,
      "outputs": [
        {
          "output_type": "stream",
          "name": "stdout",
          "text": [
            "Test  NegLogLoss Score : 0.23\n",
            "Train NegLogLoss Score : 0.24\n",
            "\n",
            "Train Accuracy : 0.95\n",
            "Test  Accuracy : 0.96\n"
          ]
        }
      ]
    }
  ]
}